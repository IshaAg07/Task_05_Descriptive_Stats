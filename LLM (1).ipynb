{
  "nbformat": 4,
  "nbformat_minor": 0,
  "metadata": {
    "colab": {
      "provenance": []
    },
    "kernelspec": {
      "name": "python3",
      "display_name": "Python 3"
    },
    "language_info": {
      "name": "python"
    }
  },
  "cells": [
    {
      "cell_type": "code",
      "execution_count": 3,
      "metadata": {
        "colab": {
          "base_uri": "https://localhost:8080/",
          "height": 206
        },
        "id": "2MfPuQlZWTpY",
        "outputId": "af115cc0-1d58-411a-91c7-da7c963d4944"
      },
      "outputs": [
        {
          "output_type": "execute_result",
          "data": {
            "text/plain": [
              "      #              Player  GP-GS   G   A  PTS  SH    SH%  SOG   SOG%  GWG  \\\n",
              "0  44.0          Ward, Emma  19-19  30  46   76  77  0.390   55  0.714    1   \n",
              "1  24.0  Trinkaus, Caroline  19-18  32  11   43  72  0.444   57  0.792    4   \n",
              "2   5.0      Muchnick, Emma  19-18  34   7   41  71  0.479   55  0.775    2   \n",
              "3  19.0     Britton, Gracie  19-14  20  10   30  41  0.488   33  0.805    0   \n",
              "4  11.0     Vogelman, Alexa  19-10  21   6   27  46  0.457   35  0.761    0   \n",
              "\n",
              "   FPG  FPS  GB  TO  CT  DC  FOULS RC-YC-GC  \n",
              "0    3    9   6  41   2   0      9    0-1-0  \n",
              "1    9   11   6  16   5   8      6    0-3-7  \n",
              "2   12   24  27  31   9  13      8    0-1-1  \n",
              "3    3    7   8  16   0   1      2    0-0-1  \n",
              "4    9   14  25  27  13  31     26    0-3-0  "
            ],
            "text/html": [
              "\n",
              "  <div id=\"df-02791b61-7728-4796-b5e5-1fb53deec66b\" class=\"colab-df-container\">\n",
              "    <div>\n",
              "<style scoped>\n",
              "    .dataframe tbody tr th:only-of-type {\n",
              "        vertical-align: middle;\n",
              "    }\n",
              "\n",
              "    .dataframe tbody tr th {\n",
              "        vertical-align: top;\n",
              "    }\n",
              "\n",
              "    .dataframe thead th {\n",
              "        text-align: right;\n",
              "    }\n",
              "</style>\n",
              "<table border=\"1\" class=\"dataframe\">\n",
              "  <thead>\n",
              "    <tr style=\"text-align: right;\">\n",
              "      <th></th>\n",
              "      <th>#</th>\n",
              "      <th>Player</th>\n",
              "      <th>GP-GS</th>\n",
              "      <th>G</th>\n",
              "      <th>A</th>\n",
              "      <th>PTS</th>\n",
              "      <th>SH</th>\n",
              "      <th>SH%</th>\n",
              "      <th>SOG</th>\n",
              "      <th>SOG%</th>\n",
              "      <th>GWG</th>\n",
              "      <th>FPG</th>\n",
              "      <th>FPS</th>\n",
              "      <th>GB</th>\n",
              "      <th>TO</th>\n",
              "      <th>CT</th>\n",
              "      <th>DC</th>\n",
              "      <th>FOULS</th>\n",
              "      <th>RC-YC-GC</th>\n",
              "    </tr>\n",
              "  </thead>\n",
              "  <tbody>\n",
              "    <tr>\n",
              "      <th>0</th>\n",
              "      <td>44.0</td>\n",
              "      <td>Ward, Emma</td>\n",
              "      <td>19-19</td>\n",
              "      <td>30</td>\n",
              "      <td>46</td>\n",
              "      <td>76</td>\n",
              "      <td>77</td>\n",
              "      <td>0.390</td>\n",
              "      <td>55</td>\n",
              "      <td>0.714</td>\n",
              "      <td>1</td>\n",
              "      <td>3</td>\n",
              "      <td>9</td>\n",
              "      <td>6</td>\n",
              "      <td>41</td>\n",
              "      <td>2</td>\n",
              "      <td>0</td>\n",
              "      <td>9</td>\n",
              "      <td>0-1-0</td>\n",
              "    </tr>\n",
              "    <tr>\n",
              "      <th>1</th>\n",
              "      <td>24.0</td>\n",
              "      <td>Trinkaus, Caroline</td>\n",
              "      <td>19-18</td>\n",
              "      <td>32</td>\n",
              "      <td>11</td>\n",
              "      <td>43</td>\n",
              "      <td>72</td>\n",
              "      <td>0.444</td>\n",
              "      <td>57</td>\n",
              "      <td>0.792</td>\n",
              "      <td>4</td>\n",
              "      <td>9</td>\n",
              "      <td>11</td>\n",
              "      <td>6</td>\n",
              "      <td>16</td>\n",
              "      <td>5</td>\n",
              "      <td>8</td>\n",
              "      <td>6</td>\n",
              "      <td>0-3-7</td>\n",
              "    </tr>\n",
              "    <tr>\n",
              "      <th>2</th>\n",
              "      <td>5.0</td>\n",
              "      <td>Muchnick, Emma</td>\n",
              "      <td>19-18</td>\n",
              "      <td>34</td>\n",
              "      <td>7</td>\n",
              "      <td>41</td>\n",
              "      <td>71</td>\n",
              "      <td>0.479</td>\n",
              "      <td>55</td>\n",
              "      <td>0.775</td>\n",
              "      <td>2</td>\n",
              "      <td>12</td>\n",
              "      <td>24</td>\n",
              "      <td>27</td>\n",
              "      <td>31</td>\n",
              "      <td>9</td>\n",
              "      <td>13</td>\n",
              "      <td>8</td>\n",
              "      <td>0-1-1</td>\n",
              "    </tr>\n",
              "    <tr>\n",
              "      <th>3</th>\n",
              "      <td>19.0</td>\n",
              "      <td>Britton, Gracie</td>\n",
              "      <td>19-14</td>\n",
              "      <td>20</td>\n",
              "      <td>10</td>\n",
              "      <td>30</td>\n",
              "      <td>41</td>\n",
              "      <td>0.488</td>\n",
              "      <td>33</td>\n",
              "      <td>0.805</td>\n",
              "      <td>0</td>\n",
              "      <td>3</td>\n",
              "      <td>7</td>\n",
              "      <td>8</td>\n",
              "      <td>16</td>\n",
              "      <td>0</td>\n",
              "      <td>1</td>\n",
              "      <td>2</td>\n",
              "      <td>0-0-1</td>\n",
              "    </tr>\n",
              "    <tr>\n",
              "      <th>4</th>\n",
              "      <td>11.0</td>\n",
              "      <td>Vogelman, Alexa</td>\n",
              "      <td>19-10</td>\n",
              "      <td>21</td>\n",
              "      <td>6</td>\n",
              "      <td>27</td>\n",
              "      <td>46</td>\n",
              "      <td>0.457</td>\n",
              "      <td>35</td>\n",
              "      <td>0.761</td>\n",
              "      <td>0</td>\n",
              "      <td>9</td>\n",
              "      <td>14</td>\n",
              "      <td>25</td>\n",
              "      <td>27</td>\n",
              "      <td>13</td>\n",
              "      <td>31</td>\n",
              "      <td>26</td>\n",
              "      <td>0-3-0</td>\n",
              "    </tr>\n",
              "  </tbody>\n",
              "</table>\n",
              "</div>\n",
              "    <div class=\"colab-df-buttons\">\n",
              "\n",
              "  <div class=\"colab-df-container\">\n",
              "    <button class=\"colab-df-convert\" onclick=\"convertToInteractive('df-02791b61-7728-4796-b5e5-1fb53deec66b')\"\n",
              "            title=\"Convert this dataframe to an interactive table.\"\n",
              "            style=\"display:none;\">\n",
              "\n",
              "  <svg xmlns=\"http://www.w3.org/2000/svg\" height=\"24px\" viewBox=\"0 -960 960 960\">\n",
              "    <path d=\"M120-120v-720h720v720H120Zm60-500h600v-160H180v160Zm220 220h160v-160H400v160Zm0 220h160v-160H400v160ZM180-400h160v-160H180v160Zm440 0h160v-160H620v160ZM180-180h160v-160H180v160Zm440 0h160v-160H620v160Z\"/>\n",
              "  </svg>\n",
              "    </button>\n",
              "\n",
              "  <style>\n",
              "    .colab-df-container {\n",
              "      display:flex;\n",
              "      gap: 12px;\n",
              "    }\n",
              "\n",
              "    .colab-df-convert {\n",
              "      background-color: #E8F0FE;\n",
              "      border: none;\n",
              "      border-radius: 50%;\n",
              "      cursor: pointer;\n",
              "      display: none;\n",
              "      fill: #1967D2;\n",
              "      height: 32px;\n",
              "      padding: 0 0 0 0;\n",
              "      width: 32px;\n",
              "    }\n",
              "\n",
              "    .colab-df-convert:hover {\n",
              "      background-color: #E2EBFA;\n",
              "      box-shadow: 0px 1px 2px rgba(60, 64, 67, 0.3), 0px 1px 3px 1px rgba(60, 64, 67, 0.15);\n",
              "      fill: #174EA6;\n",
              "    }\n",
              "\n",
              "    .colab-df-buttons div {\n",
              "      margin-bottom: 4px;\n",
              "    }\n",
              "\n",
              "    [theme=dark] .colab-df-convert {\n",
              "      background-color: #3B4455;\n",
              "      fill: #D2E3FC;\n",
              "    }\n",
              "\n",
              "    [theme=dark] .colab-df-convert:hover {\n",
              "      background-color: #434B5C;\n",
              "      box-shadow: 0px 1px 3px 1px rgba(0, 0, 0, 0.15);\n",
              "      filter: drop-shadow(0px 1px 2px rgba(0, 0, 0, 0.3));\n",
              "      fill: #FFFFFF;\n",
              "    }\n",
              "  </style>\n",
              "\n",
              "    <script>\n",
              "      const buttonEl =\n",
              "        document.querySelector('#df-02791b61-7728-4796-b5e5-1fb53deec66b button.colab-df-convert');\n",
              "      buttonEl.style.display =\n",
              "        google.colab.kernel.accessAllowed ? 'block' : 'none';\n",
              "\n",
              "      async function convertToInteractive(key) {\n",
              "        const element = document.querySelector('#df-02791b61-7728-4796-b5e5-1fb53deec66b');\n",
              "        const dataTable =\n",
              "          await google.colab.kernel.invokeFunction('convertToInteractive',\n",
              "                                                    [key], {});\n",
              "        if (!dataTable) return;\n",
              "\n",
              "        const docLinkHtml = 'Like what you see? Visit the ' +\n",
              "          '<a target=\"_blank\" href=https://colab.research.google.com/notebooks/data_table.ipynb>data table notebook</a>'\n",
              "          + ' to learn more about interactive tables.';\n",
              "        element.innerHTML = '';\n",
              "        dataTable['output_type'] = 'display_data';\n",
              "        await google.colab.output.renderOutput(dataTable, element);\n",
              "        const docLink = document.createElement('div');\n",
              "        docLink.innerHTML = docLinkHtml;\n",
              "        element.appendChild(docLink);\n",
              "      }\n",
              "    </script>\n",
              "  </div>\n",
              "\n",
              "\n",
              "    <div id=\"df-3a71eec9-6530-4fca-8694-2dd8be2aabef\">\n",
              "      <button class=\"colab-df-quickchart\" onclick=\"quickchart('df-3a71eec9-6530-4fca-8694-2dd8be2aabef')\"\n",
              "                title=\"Suggest charts\"\n",
              "                style=\"display:none;\">\n",
              "\n",
              "<svg xmlns=\"http://www.w3.org/2000/svg\" height=\"24px\"viewBox=\"0 0 24 24\"\n",
              "     width=\"24px\">\n",
              "    <g>\n",
              "        <path d=\"M19 3H5c-1.1 0-2 .9-2 2v14c0 1.1.9 2 2 2h14c1.1 0 2-.9 2-2V5c0-1.1-.9-2-2-2zM9 17H7v-7h2v7zm4 0h-2V7h2v10zm4 0h-2v-4h2v4z\"/>\n",
              "    </g>\n",
              "</svg>\n",
              "      </button>\n",
              "\n",
              "<style>\n",
              "  .colab-df-quickchart {\n",
              "      --bg-color: #E8F0FE;\n",
              "      --fill-color: #1967D2;\n",
              "      --hover-bg-color: #E2EBFA;\n",
              "      --hover-fill-color: #174EA6;\n",
              "      --disabled-fill-color: #AAA;\n",
              "      --disabled-bg-color: #DDD;\n",
              "  }\n",
              "\n",
              "  [theme=dark] .colab-df-quickchart {\n",
              "      --bg-color: #3B4455;\n",
              "      --fill-color: #D2E3FC;\n",
              "      --hover-bg-color: #434B5C;\n",
              "      --hover-fill-color: #FFFFFF;\n",
              "      --disabled-bg-color: #3B4455;\n",
              "      --disabled-fill-color: #666;\n",
              "  }\n",
              "\n",
              "  .colab-df-quickchart {\n",
              "    background-color: var(--bg-color);\n",
              "    border: none;\n",
              "    border-radius: 50%;\n",
              "    cursor: pointer;\n",
              "    display: none;\n",
              "    fill: var(--fill-color);\n",
              "    height: 32px;\n",
              "    padding: 0;\n",
              "    width: 32px;\n",
              "  }\n",
              "\n",
              "  .colab-df-quickchart:hover {\n",
              "    background-color: var(--hover-bg-color);\n",
              "    box-shadow: 0 1px 2px rgba(60, 64, 67, 0.3), 0 1px 3px 1px rgba(60, 64, 67, 0.15);\n",
              "    fill: var(--button-hover-fill-color);\n",
              "  }\n",
              "\n",
              "  .colab-df-quickchart-complete:disabled,\n",
              "  .colab-df-quickchart-complete:disabled:hover {\n",
              "    background-color: var(--disabled-bg-color);\n",
              "    fill: var(--disabled-fill-color);\n",
              "    box-shadow: none;\n",
              "  }\n",
              "\n",
              "  .colab-df-spinner {\n",
              "    border: 2px solid var(--fill-color);\n",
              "    border-color: transparent;\n",
              "    border-bottom-color: var(--fill-color);\n",
              "    animation:\n",
              "      spin 1s steps(1) infinite;\n",
              "  }\n",
              "\n",
              "  @keyframes spin {\n",
              "    0% {\n",
              "      border-color: transparent;\n",
              "      border-bottom-color: var(--fill-color);\n",
              "      border-left-color: var(--fill-color);\n",
              "    }\n",
              "    20% {\n",
              "      border-color: transparent;\n",
              "      border-left-color: var(--fill-color);\n",
              "      border-top-color: var(--fill-color);\n",
              "    }\n",
              "    30% {\n",
              "      border-color: transparent;\n",
              "      border-left-color: var(--fill-color);\n",
              "      border-top-color: var(--fill-color);\n",
              "      border-right-color: var(--fill-color);\n",
              "    }\n",
              "    40% {\n",
              "      border-color: transparent;\n",
              "      border-right-color: var(--fill-color);\n",
              "      border-top-color: var(--fill-color);\n",
              "    }\n",
              "    60% {\n",
              "      border-color: transparent;\n",
              "      border-right-color: var(--fill-color);\n",
              "    }\n",
              "    80% {\n",
              "      border-color: transparent;\n",
              "      border-right-color: var(--fill-color);\n",
              "      border-bottom-color: var(--fill-color);\n",
              "    }\n",
              "    90% {\n",
              "      border-color: transparent;\n",
              "      border-bottom-color: var(--fill-color);\n",
              "    }\n",
              "  }\n",
              "</style>\n",
              "\n",
              "      <script>\n",
              "        async function quickchart(key) {\n",
              "          const quickchartButtonEl =\n",
              "            document.querySelector('#' + key + ' button');\n",
              "          quickchartButtonEl.disabled = true;  // To prevent multiple clicks.\n",
              "          quickchartButtonEl.classList.add('colab-df-spinner');\n",
              "          try {\n",
              "            const charts = await google.colab.kernel.invokeFunction(\n",
              "                'suggestCharts', [key], {});\n",
              "          } catch (error) {\n",
              "            console.error('Error during call to suggestCharts:', error);\n",
              "          }\n",
              "          quickchartButtonEl.classList.remove('colab-df-spinner');\n",
              "          quickchartButtonEl.classList.add('colab-df-quickchart-complete');\n",
              "        }\n",
              "        (() => {\n",
              "          let quickchartButtonEl =\n",
              "            document.querySelector('#df-3a71eec9-6530-4fca-8694-2dd8be2aabef button');\n",
              "          quickchartButtonEl.style.display =\n",
              "            google.colab.kernel.accessAllowed ? 'block' : 'none';\n",
              "        })();\n",
              "      </script>\n",
              "    </div>\n",
              "\n",
              "    </div>\n",
              "  </div>\n"
            ],
            "application/vnd.google.colaboratory.intrinsic+json": {
              "type": "dataframe",
              "variable_name": "df",
              "summary": "{\n  \"name\": \"df\",\n  \"rows\": 34,\n  \"fields\": [\n    {\n      \"column\": \"#\",\n      \"properties\": {\n        \"dtype\": \"number\",\n        \"std\": 19.804258869112946,\n        \"min\": 0.0,\n        \"max\": 88.0,\n        \"num_unique_values\": 32,\n        \"samples\": [\n          35.0,\n          20.0,\n          17.0\n        ],\n        \"semantic_type\": \"\",\n        \"description\": \"\"\n      }\n    },\n    {\n      \"column\": \"Player\",\n      \"properties\": {\n        \"dtype\": \"string\",\n        \"num_unique_values\": 34,\n        \"samples\": [\n          \"Rich, Mackenzie\",\n          \"Horvit, Ana\",\n          \"Clark, Superia\"\n        ],\n        \"semantic_type\": \"\",\n        \"description\": \"\"\n      }\n    },\n    {\n      \"column\": \"GP-GS\",\n      \"properties\": {\n        \"dtype\": \"string\",\n        \"num_unique_values\": 24,\n        \"samples\": [\n          \"15-5\",\n          \"2-Feb\",\n          \"19-19\"\n        ],\n        \"semantic_type\": \"\",\n        \"description\": \"\"\n      }\n    },\n    {\n      \"column\": \"G\",\n      \"properties\": {\n        \"dtype\": \"number\",\n        \"std\": 53,\n        \"min\": 0,\n        \"max\": 235,\n        \"num_unique_values\": 16,\n        \"samples\": [\n          30,\n          32,\n          16\n        ],\n        \"semantic_type\": \"\",\n        \"description\": \"\"\n      }\n    },\n    {\n      \"column\": \"A\",\n      \"properties\": {\n        \"dtype\": \"number\",\n        \"std\": 27,\n        \"min\": 0,\n        \"max\": 116,\n        \"num_unique_values\": 13,\n        \"samples\": [\n          112,\n          1,\n          46\n        ],\n        \"semantic_type\": \"\",\n        \"description\": \"\"\n      }\n    },\n    {\n      \"column\": \"PTS\",\n      \"properties\": {\n        \"dtype\": \"number\",\n        \"std\": 80,\n        \"min\": 0,\n        \"max\": 347,\n        \"num_unique_values\": 17,\n        \"samples\": [\n          76,\n          43,\n          23\n        ],\n        \"semantic_type\": \"\",\n        \"description\": \"\"\n      }\n    },\n    {\n      \"column\": \"SH\",\n      \"properties\": {\n        \"dtype\": \"number\",\n        \"std\": 128,\n        \"min\": 0,\n        \"max\": 552,\n        \"num_unique_values\": 17,\n        \"samples\": [\n          77,\n          72,\n          50\n        ],\n        \"semantic_type\": \"\",\n        \"description\": \"\"\n      }\n    },\n    {\n      \"column\": \"SH%\",\n      \"properties\": {\n        \"dtype\": \"number\",\n        \"std\": 0.2677131199936899,\n        \"min\": 0.0,\n        \"max\": 1.0,\n        \"num_unique_values\": 18,\n        \"samples\": [\n          0.39,\n          0.444,\n          0.556\n        ],\n        \"semantic_type\": \"\",\n        \"description\": \"\"\n      }\n    },\n    {\n      \"column\": \"SOG\",\n      \"properties\": {\n        \"dtype\": \"number\",\n        \"std\": 92,\n        \"min\": 0,\n        \"max\": 402,\n        \"num_unique_values\": 17,\n        \"samples\": [\n          55,\n          57,\n          29\n        ],\n        \"semantic_type\": \"\",\n        \"description\": \"\"\n      }\n    },\n    {\n      \"column\": \"SOG%\",\n      \"properties\": {\n        \"dtype\": \"number\",\n        \"std\": 0.3894189155656881,\n        \"min\": 0.0,\n        \"max\": 1.0,\n        \"num_unique_values\": 19,\n        \"samples\": [\n          0.714,\n          0.76,\n          0.917\n        ],\n        \"semantic_type\": \"\",\n        \"description\": \"\"\n      }\n    },\n    {\n      \"column\": \"GWG\",\n      \"properties\": {\n        \"dtype\": \"number\",\n        \"std\": 2,\n        \"min\": 0,\n        \"max\": 10,\n        \"num_unique_values\": 6,\n        \"samples\": [\n          1,\n          4,\n          9\n        ],\n        \"semantic_type\": \"\",\n        \"description\": \"\"\n      }\n    },\n    {\n      \"column\": \"FPG\",\n      \"properties\": {\n        \"dtype\": \"number\",\n        \"std\": 10,\n        \"min\": 0,\n        \"max\": 44,\n        \"num_unique_values\": 8,\n        \"samples\": [\n          9,\n          1,\n          3\n        ],\n        \"semantic_type\": \"\",\n        \"description\": \"\"\n      }\n    },\n    {\n      \"column\": \"FPS\",\n      \"properties\": {\n        \"dtype\": \"number\",\n        \"std\": 22,\n        \"min\": 0,\n        \"max\": 102,\n        \"num_unique_values\": 13,\n        \"samples\": [\n          90,\n          4,\n          9\n        ],\n        \"semantic_type\": \"\",\n        \"description\": \"\"\n      }\n    },\n    {\n      \"column\": \"GB\",\n      \"properties\": {\n        \"dtype\": \"number\",\n        \"std\": 67,\n        \"min\": 0,\n        \"max\": 295,\n        \"num_unique_values\": 18,\n        \"samples\": [\n          6,\n          27,\n          5\n        ],\n        \"semantic_type\": \"\",\n        \"description\": \"\"\n      }\n    },\n    {\n      \"column\": \"TO\",\n      \"properties\": {\n        \"dtype\": \"number\",\n        \"std\": 65,\n        \"min\": 0,\n        \"max\": 286,\n        \"num_unique_values\": 18,\n        \"samples\": [\n          41,\n          16,\n          10\n        ],\n        \"semantic_type\": \"\",\n        \"description\": \"\"\n      }\n    },\n    {\n      \"column\": \"CT\",\n      \"properties\": {\n        \"dtype\": \"number\",\n        \"std\": 34,\n        \"min\": 0,\n        \"max\": 153,\n        \"num_unique_values\": 13,\n        \"samples\": [\n          153,\n          12,\n          2\n        ],\n        \"semantic_type\": \"\",\n        \"description\": \"\"\n      }\n    },\n    {\n      \"column\": \"DC\",\n      \"properties\": {\n        \"dtype\": \"number\",\n        \"std\": 62,\n        \"min\": 0,\n        \"max\": 280,\n        \"num_unique_values\": 13,\n        \"samples\": [\n          240,\n          75,\n          0\n        ],\n        \"semantic_type\": \"\",\n        \"description\": \"\"\n      }\n    },\n    {\n      \"column\": \"FOULS\",\n      \"properties\": {\n        \"dtype\": \"number\",\n        \"std\": 83,\n        \"min\": 0,\n        \"max\": 373,\n        \"num_unique_values\": 19,\n        \"samples\": [\n          9,\n          29,\n          0\n        ],\n        \"semantic_type\": \"\",\n        \"description\": \"\"\n      }\n    },\n    {\n      \"column\": \"RC-YC-GC\",\n      \"properties\": {\n        \"dtype\": \"category\",\n        \"num_unique_values\": 16,\n        \"samples\": [\n          \"0-1-0\",\n          \"0-3-7\",\n          \"0-0-5\"\n        ],\n        \"semantic_type\": \"\",\n        \"description\": \"\"\n      }\n    }\n  ]\n}"
            }
          },
          "metadata": {},
          "execution_count": 3
        }
      ],
      "source": [
        "import pandas as pd\n",
        "\n",
        "# ✅ Load your uploaded CSV\n",
        "df = pd.read_csv('/content/WOMENS_2025_TEAM.csv')\n",
        "\n",
        "# ✅ Show the first few rows to verify it loaded correctly\n",
        "df.head()\n"
      ]
    },
    {
      "cell_type": "markdown",
      "source": [
        "### Dataset Description\n",
        "\n",
        "This project uses the official 2025 season statistics for the **Syracuse University Women’s Lacrosse team**.  \n",
        "The dataset includes **individual-level performance metrics** such as:\n",
        "\n",
        "- `G`, `A`, `PTS`: Goals, Assists, and Total Points\n",
        "- `SH`, `SH%`: Total shots and shooting percentage\n",
        "- `SOG`, `SOG%`: Shots on goal and shot accuracy\n",
        "- `TO`, `CT`: Turnovers and caused turnovers\n",
        "- `GB`, `DC`: Ground balls and draw controls\n",
        "- `FOULS`, `RC-YC-GC`: Fouls and cards\n",
        "- `GP-GS`: Games Played and Games Started\n",
        "\n",
        "These stats allow us to evaluate individual and team performance across offensive and defensive contributions.\n"
      ],
      "metadata": {
        "id": "Z9b_PAddm1Km"
      }
    },
    {
      "cell_type": "code",
      "source": [
        "# ✅ Filter rows where GP-GS is like \"number-number\"\n",
        "df = df[df['GP-GS'].str.match(r'^\\d+-\\d+$')]\n",
        "\n",
        "# ✅ Extract GP and GS\n",
        "df[['GP', 'GS']] = df['GP-GS'].str.split('-', expand=True).astype(int)\n",
        "\n",
        "# ✅ Convert key columns to numeric (handle SH%, SOG%, etc.)\n",
        "numeric_cols = ['G', 'A', 'PTS', 'SH', 'SH%', 'SOG', 'SOG%', 'GB', 'TO', 'CT', 'DC']\n",
        "for col in numeric_cols:\n",
        "    df[col] = pd.to_numeric(df[col], errors='coerce')\n",
        "\n",
        "\n",
        "\n",
        "\n",
        "\n",
        "\n",
        "\n"
      ],
      "metadata": {
        "colab": {
          "base_uri": "https://localhost:8080/"
        },
        "id": "ZR-28tUwYgIZ",
        "outputId": "333461dd-d62f-4dc5-8f7b-e3788cd2451e"
      },
      "execution_count": 4,
      "outputs": [
        {
          "output_type": "stream",
          "name": "stderr",
          "text": [
            "/tmp/ipython-input-2874764374.py:5: SettingWithCopyWarning: \n",
            "A value is trying to be set on a copy of a slice from a DataFrame.\n",
            "Try using .loc[row_indexer,col_indexer] = value instead\n",
            "\n",
            "See the caveats in the documentation: https://pandas.pydata.org/pandas-docs/stable/user_guide/indexing.html#returning-a-view-versus-a-copy\n",
            "  df[['GP', 'GS']] = df['GP-GS'].str.split('-', expand=True).astype(int)\n",
            "/tmp/ipython-input-2874764374.py:5: SettingWithCopyWarning: \n",
            "A value is trying to be set on a copy of a slice from a DataFrame.\n",
            "Try using .loc[row_indexer,col_indexer] = value instead\n",
            "\n",
            "See the caveats in the documentation: https://pandas.pydata.org/pandas-docs/stable/user_guide/indexing.html#returning-a-view-versus-a-copy\n",
            "  df[['GP', 'GS']] = df['GP-GS'].str.split('-', expand=True).astype(int)\n",
            "/tmp/ipython-input-2874764374.py:10: SettingWithCopyWarning: \n",
            "A value is trying to be set on a copy of a slice from a DataFrame.\n",
            "Try using .loc[row_indexer,col_indexer] = value instead\n",
            "\n",
            "See the caveats in the documentation: https://pandas.pydata.org/pandas-docs/stable/user_guide/indexing.html#returning-a-view-versus-a-copy\n",
            "  df[col] = pd.to_numeric(df[col], errors='coerce')\n"
          ]
        }
      ]
    },
    {
      "cell_type": "markdown",
      "source": [
        "### Feature Engineering\n",
        "\n",
        "To prepare the data for analysis:\n",
        "- We first removed rows with malformed `GP-GS` entries.\n",
        "- Then, we split the `GP-GS` column into two numeric fields: `GP` (Games Played) and `GS` (Games Started).\n",
        "- We also converted key performance columns (`G`, `A`, `SH%`, `TO`, etc.) to numeric format for proper calculations.\n",
        "\n",
        "This step ensures the dataset is clean and analysis-ready.\n"
      ],
      "metadata": {
        "id": "O7qadQKPm_oz"
      }
    },
    {
      "cell_type": "code",
      "source": [
        "# Q1: Total games played\n",
        "total_games = df['GP'].max()\n",
        "print(f\"1️⃣ Total games played: {total_games}\")"
      ],
      "metadata": {
        "colab": {
          "base_uri": "https://localhost:8080/"
        },
        "id": "c5_tN_zgnDvq",
        "outputId": "573cf715-da77-4e08-eac2-96cc5be14af3"
      },
      "execution_count": 6,
      "outputs": [
        {
          "output_type": "stream",
          "name": "stdout",
          "text": [
            "1️⃣ Total games played: 19\n"
          ]
        }
      ]
    },
    {
      "cell_type": "markdown",
      "source": [
        "This question helps understand the **size of the season**.  \n",
        "We assume the total number of games played equals the **maximum value in the `GP` column** (Games Played).  \n",
        "Since each row is a player, and some players may not have played all games, using the maximum value gives us the full season length."
      ],
      "metadata": {
        "id": "Ft9c0MvEnE5A"
      }
    },
    {
      "cell_type": "code",
      "source": [
        "# Q2: Average goals per game\n",
        "avg_goals = df['G'].sum() / total_games\n",
        "print(f\"2️⃣ Average goals per game: {avg_goals:.2f}\")"
      ],
      "metadata": {
        "colab": {
          "base_uri": "https://localhost:8080/"
        },
        "id": "qv2gJRV5nIRf",
        "outputId": "637e9215-019d-49f7-9db2-29165cafb86a"
      },
      "execution_count": 7,
      "outputs": [
        {
          "output_type": "stream",
          "name": "stdout",
          "text": [
            "2️⃣ Average goals per game: 10.84\n"
          ]
        }
      ]
    },
    {
      "cell_type": "markdown",
      "source": [
        "We calculate this by summing all player goals (`G`) and dividing by the total number of games.  \n",
        "This gives us a basic sense of the team’s offensive output per match."
      ],
      "metadata": {
        "id": "1HwRfhjGnK_d"
      }
    },
    {
      "cell_type": "code",
      "source": [
        "# Q3: Average assists per game\n",
        "avg_assists = df['A'].sum() / total_games\n",
        "print(f\"3️⃣ Average assists per game: {avg_assists:.2f}\")"
      ],
      "metadata": {
        "colab": {
          "base_uri": "https://localhost:8080/"
        },
        "id": "SHHf8AHDnPv1",
        "outputId": "fdc5571e-f658-4a06-a8e3-d8e58d0a2f40"
      },
      "execution_count": 8,
      "outputs": [
        {
          "output_type": "stream",
          "name": "stdout",
          "text": [
            "3️⃣ Average assists per game: 5.42\n"
          ]
        }
      ]
    },
    {
      "cell_type": "markdown",
      "source": [
        "Similar to the goals calculation, we total all assists (`A`) and divide by the number of games played.  \n",
        "This helps assess how much of the offense came from coordinated passing rather than individual scoring."
      ],
      "metadata": {
        "id": "8heru9OmnSSe"
      }
    },
    {
      "cell_type": "code",
      "source": [
        "# Q4: Highest shot accuracy (min 10 shots to be fair)\n",
        "df_shooters = df[df['SH'] >= 10]\n",
        "most_accurate = df_shooters.sort_values(by='SH%', ascending=False).iloc[0]\n",
        "print(f\"4️⃣ Highest shot accuracy: {most_accurate['Player']} ({most_accurate['SH%']:.3f})\")\n",
        "\n",
        "\n",
        "\n",
        "\n",
        "\n",
        "\n",
        "\n"
      ],
      "metadata": {
        "colab": {
          "base_uri": "https://localhost:8080/"
        },
        "id": "x5iZ7U8DnUmJ",
        "outputId": "7ba3c8a3-b03d-4bd9-cd9e-9fdaf5fc1b89"
      },
      "execution_count": 9,
      "outputs": [
        {
          "output_type": "stream",
          "name": "stdout",
          "text": [
            "4️⃣ Highest shot accuracy: DeVito, Sam (0.667)\n"
          ]
        }
      ]
    },
    {
      "cell_type": "markdown",
      "source": [
        "We use the `SH%` column (Shot %) to find the most accurate shooter.  \n",
        "To keep it fair, we filter to players who took at least 10 shots.  \n",
        "This avoids cases where someone scored on their only shot and gets 100%."
      ],
      "metadata": {
        "id": "sjRwowwqnXfl"
      }
    },
    {
      "cell_type": "code",
      "source": [
        "# Q5: Most turnovers\n",
        "most_turnovers = df.loc[df['TO'].idxmax()]\n",
        "print(f\"5️⃣ Most turnovers: {most_turnovers['Player']} ({int(most_turnovers['TO'])} TOs)\")"
      ],
      "metadata": {
        "colab": {
          "base_uri": "https://localhost:8080/"
        },
        "id": "M-yiN62EnaXW",
        "outputId": "983b5e2f-4598-497f-d3cf-5dd52128ba7b"
      },
      "execution_count": 10,
      "outputs": [
        {
          "output_type": "stream",
          "name": "stdout",
          "text": [
            "5️⃣ Most turnovers: Ward, Emma (41 TOs)\n"
          ]
        }
      ]
    },
    {
      "cell_type": "markdown",
      "source": [
        "This gives insight into **risky or error-prone players**.  \n",
        "Turnovers (`TO`) represent lost possession and are critical in evaluating both offensive efficiency and decision-making."
      ],
      "metadata": {
        "id": "wpgK4vdSnbf0"
      }
    },
    {
      "cell_type": "code",
      "source": [
        "# Q6: Most ground balls\n",
        "most_gb = df.loc[df['GB'].idxmax()]\n",
        "print(f\"6️⃣ Most ground balls: {most_gb['Player']} ({int(most_gb['GB'])} GB)\")"
      ],
      "metadata": {
        "colab": {
          "base_uri": "https://localhost:8080/"
        },
        "id": "UwZiTAzHng7I",
        "outputId": "131baa1b-60d5-4b32-dcc7-16214d526a5a"
      },
      "execution_count": 11,
      "outputs": [
        {
          "output_type": "stream",
          "name": "stdout",
          "text": [
            "6️⃣ Most ground balls: Benoit, Kaci (34 GB)\n"
          ]
        }
      ]
    },
    {
      "cell_type": "markdown",
      "source": [
        "Ground balls (`GB`) reflect **hustle and defensive contribution**.  \n",
        "Players who recover the most ground balls are often key defenders or midfielders who keep possession alive."
      ],
      "metadata": {
        "id": "J5-XJtQhnjQu"
      }
    },
    {
      "cell_type": "code",
      "source": [
        "# Q7: Top scorer\n",
        "top_scorer = df.loc[df['G'].idxmax()]\n",
        "print(f\"7️⃣ Top scorer: {top_scorer['Player']} ({int(top_scorer['G'])} goals)\")"
      ],
      "metadata": {
        "colab": {
          "base_uri": "https://localhost:8080/"
        },
        "id": "suDh_bqhnlX0",
        "outputId": "54fd2345-46b2-4ef3-c65f-94c7483bf884"
      },
      "execution_count": 12,
      "outputs": [
        {
          "output_type": "stream",
          "name": "stdout",
          "text": [
            "7️⃣ Top scorer: Muchnick, Emma (34 goals)\n"
          ]
        }
      ]
    },
    {
      "cell_type": "markdown",
      "source": [
        "A simple but important metric: we identify the player with the highest number of goals (`G`).  \n",
        "This often reflects who the team relied on most for offensive production."
      ],
      "metadata": {
        "id": "ZmSD4ydWnn9H"
      }
    },
    {
      "cell_type": "code",
      "source": [
        "#  Q8: Proxy \"Most Improved\" via custom impact score\n",
        "df['impact_score'] = (df['G'] + df['A'] + df['GB'] + df['DC'] - df['TO']) / df['GP']\n",
        "most_improved = df.sort_values(by='impact_score', ascending=False).iloc[0]\n",
        "print(f\"8️⃣ Proxy Most Improved: {most_improved['Player']} (Impact Score: {most_improved['impact_score']:.2f})\")"
      ],
      "metadata": {
        "colab": {
          "base_uri": "https://localhost:8080/"
        },
        "id": "kC2VVrXNnp4Q",
        "outputId": "188dd9d9-d07a-4d15-9cbc-0f8ad92f967a"
      },
      "execution_count": 13,
      "outputs": [
        {
          "output_type": "stream",
          "name": "stdout",
          "text": [
            "8️⃣ Proxy Most Improved: Rode, Meghan (Impact Score: 4.29)\n"
          ]
        }
      ]
    },
    {
      "cell_type": "markdown",
      "source": [
        "Since we don't have per-game or multi-season data, we use a **proxy metric**:\n",
        "\n",
        "`impact_score = (Goals + Assists + Ground Balls + Draw Controls - Turnovers) / Games Played`\n",
        "\n",
        "This reflects each player's **positive contribution per game**, while penalizing for lost possessions.  \n",
        "The player with the highest score is considered the most impactful relative to their usage — a stand-in for “most improved”."
      ],
      "metadata": {
        "id": "Vc0whmKqnsB1"
      }
    }
  ]
}